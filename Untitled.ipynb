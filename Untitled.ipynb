{
 "cells": [
  {
   "cell_type": "code",
   "execution_count": 1,
   "id": "8ae8f3dc-930f-4692-b667-acd15fe970ef",
   "metadata": {},
   "outputs": [],
   "source": [
    "import pandas as pd"
   ]
  },
  {
   "cell_type": "code",
   "execution_count": 2,
   "id": "c344aa04-3844-4223-a51c-dff600eb69cc",
   "metadata": {
    "tags": []
   },
   "outputs": [],
   "source": [
    "from sklearn.ensemble import RandomForestClassifier, VotingClassifier\n",
    "from sklearn.neighbors import KNeighborsClassifier\n",
    "from sklearn.linear_model import LogisticRegression\n",
    "from sklearn.preprocessing import LabelEncoder"
   ]
  },
  {
   "cell_type": "code",
   "execution_count": 3,
   "id": "612977c1-4173-4b21-8ada-a10827eeb9a0",
   "metadata": {
    "tags": []
   },
   "outputs": [],
   "source": [
    "import pickle"
   ]
  },
  {
   "cell_type": "code",
   "execution_count": 5,
   "id": "2528ae64-a633-4081-9f6f-04e0e4dc0e8c",
   "metadata": {
    "tags": []
   },
   "outputs": [
    {
     "name": "stderr",
     "output_type": "stream",
     "text": [
      "C:\\Users\\YUSUFF\\anaconda3\\Lib\\site-packages\\sklearn\\linear_model\\_logistic.py:460: ConvergenceWarning: lbfgs failed to converge (status=1):\n",
      "STOP: TOTAL NO. of ITERATIONS REACHED LIMIT.\n",
      "\n",
      "Increase the number of iterations (max_iter) or scale the data as shown in:\n",
      "    https://scikit-learn.org/stable/modules/preprocessing.html\n",
      "Please also refer to the documentation for alternative solver options:\n",
      "    https://scikit-learn.org/stable/modules/linear_model.html#logistic-regression\n",
      "  n_iter_i = _check_optimize_result(\n"
     ]
    }
   ],
   "source": [
    "# Load the pre-trained models\n",
    "model_amounts = RandomForestClassifier(n_estimators=100, random_state=42)\n",
    "model_behavior = KNeighborsClassifier(n_neighbors=5)\n",
    "model_history = LogisticRegression(random_state=42)\n",
    "model = VotingClassifier(estimators=[\n",
    "   ('amounts', model_amounts),\n",
    "   ('behavior', model_behavior),\n",
    "   ('history', model_history)\n",
    "], voting='soft')\n",
    "\n",
    "# Load the label encoder and fit it on the training data\n",
    "label_encoder = LabelEncoder()\n",
    "df = pd.read_csv('risk_assessment.csv')\n",
    "\n",
    "df['Time of Day']=label_encoder.fit_transform(df['Time of Day'])\n",
    "df['Location']=label_encoder.fit_transform(df['Location'])\n",
    "df['Service Type']=label_encoder.fit_transform(df['Service Type'])\n",
    "df['Provider']=label_encoder.fit_transform(df['Provider'])\n",
    "#df['Historical Transaction Amount']=label_encoder.fit_transform(df['Historical Transaction Amount'])\n",
    "df['Risk']=label_encoder.fit_transform(df['Risk'])\n",
    "\n",
    "model.fit(df[['Time of Day','Location','Frequency','Service Type','Historical Transaction Amount','Transaction Amount']], df['Risk'])\n",
    "with open('model.pkl', 'wb') as model_file:\n",
    "    pickle.dump(model, model_file)\n",
    "\n"
   ]
  },
  {
   "cell_type": "code",
   "execution_count": null,
   "id": "8923a228-e932-4a72-8c78-6053b8f79d52",
   "metadata": {},
   "outputs": [],
   "source": []
  }
 ],
 "metadata": {
  "kernelspec": {
   "display_name": "Python 3 (ipykernel)",
   "language": "python",
   "name": "python3"
  },
  "language_info": {
   "codemirror_mode": {
    "name": "ipython",
    "version": 3
   },
   "file_extension": ".py",
   "mimetype": "text/x-python",
   "name": "python",
   "nbconvert_exporter": "python",
   "pygments_lexer": "ipython3",
   "version": "3.11.4"
  }
 },
 "nbformat": 4,
 "nbformat_minor": 5
}
